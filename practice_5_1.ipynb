{
 "metadata": {
  "language_info": {
   "codemirror_mode": {
    "name": "ipython",
    "version": 3
   },
   "file_extension": ".py",
   "mimetype": "text/x-python",
   "name": "python",
   "nbconvert_exporter": "python",
   "pygments_lexer": "ipython3",
   "version": "3.8.5-final"
  },
  "orig_nbformat": 2,
  "kernelspec": {
   "name": "Python 3.8.5 64-bit",
   "display_name": "Python 3.8.5 64-bit",
   "metadata": {
    "interpreter": {
     "hash": "082e9a3bcad0a290d0001e938aa60b99250c6c2ef33a923c00b70f9826caf4b7"
    }
   }
  }
 },
 "nbformat": 4,
 "nbformat_minor": 2,
 "cells": [
  {
   "cell_type": "code",
   "execution_count": 6,
   "metadata": {},
   "outputs": [
    {
     "output_type": "stream",
     "name": "stdout",
     "text": [
      "Set from first phrase: {'d', 'a', 's'}\nSet from second phrase: {'d', 'a', 's'}\nYes, second phrase can be assembled from the first phrase :)\n"
     ]
    }
   ],
   "source": [
    "while True:\n",
    "    phrase_1 = input(\"Please enter the first phrase (only alphabetical characters are allowed): \")\n",
    "    phrase_1_no_whitespaces_lowercase = phrase_1.replace(\" \", \"\").lower()\n",
    "    if not phrase_1_no_whitespaces_lowercase.isalpha():\n",
    "        print(\"Error. Not all characters are alphabetical!\")\n",
    "        continue\n",
    "\n",
    "    phrase_2 = input(\"Please enter the second phrase (only alphabetical characters are allowed): \")\n",
    "    phrase_2_no_whitespaces_lowercase = phrase_2.replace(\" \", \"\").lower()\n",
    "    if not phrase_2_no_whitespaces_lowercase.isalpha():\n",
    "        print(\"Error. Not all characters are alphabetical!\")\n",
    "        continue\n",
    "    set_from_phrase_1 = set(phrase_1_no_whitespaces_lowercase)\n",
    "    set_from_phrase_2 = set(phrase_2_no_whitespaces_lowercase)\n",
    "\n",
    "    print(\"Set from first phrase:\", set_from_phrase_1)\n",
    "    print(\"Set from second phrase:\", set_from_phrase_2)\n",
    "\n",
    "    if set_from_phrase_2.issubset(set_from_phrase_1):\n",
    "        print(\"Yes, second phrase can be assembled from the first phrase :)\")\n",
    "    else:\n",
    "        print(\"No, second phrase can not be assembled from the first phrase :(\")\n",
    "\n",
    "    if input(\"One more time? [y] for Yes, any other key to exit the programme\") != 'y':\n",
    "        break"
   ]
  },
  {
   "cell_type": "code",
   "execution_count": null,
   "metadata": {},
   "outputs": [],
   "source": []
  }
 ]
}