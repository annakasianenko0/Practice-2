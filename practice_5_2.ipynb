{
 "metadata": {
  "language_info": {
   "codemirror_mode": {
    "name": "ipython",
    "version": 3
   },
   "file_extension": ".py",
   "mimetype": "text/x-python",
   "name": "python",
   "nbconvert_exporter": "python",
   "pygments_lexer": "ipython3",
   "version": "3.8.5-final"
  },
  "orig_nbformat": 2,
  "kernelspec": {
   "name": "Python 3.8.5 64-bit",
   "display_name": "Python 3.8.5 64-bit",
   "metadata": {
    "interpreter": {
     "hash": "082e9a3bcad0a290d0001e938aa60b99250c6c2ef33a923c00b70f9826caf4b7"
    }
   }
  }
 },
 "nbformat": 4,
 "nbformat_minor": 2,
 "cells": [
  {
   "cell_type": "code",
   "execution_count": 4,
   "metadata": {},
   "outputs": [
    {
     "output_type": "stream",
     "name": "stdout",
     "text": [
      "26666205527777444266336655666\n"
     ]
    }
   ],
   "source": [
    "phone_keyboard_dict = {\".\": \"1\", \",\": \"11\", \"?\": \"111\", \"!\": \"1111\", \":\": \"11111\", \"A\": \"2\", \"B\": \"22\", \"C\": \"222\", \"D\": \"3\", \"E\": \"33\", \"F\": \"333\", \"G\": \"4\", \n",
    "\"H\": \"44\", \"I\": \"444\", \"J\": \"5\", \"K\": \"55\", \"L\": \"555\", \"M\": \"6\", \"N\": \"66\", \"O\": \"666\", \"P\": \"7\", \"Q\": \"77\", \"R\": \"777\", \"S\": \"7777\", \"T\": \"8\", \"U\": \"88\", \n",
    "\"V\": \"888\",\"W\": \"9\", \"X\": \"99\", \"Y\": \"999\", \"Z\": \"9999\", \" \": \"0\"}\n",
    "\n",
    "text = input(\"Please write a phrase\")\n",
    "text_upper_case = text.upper()\n",
    "text_list = list(text_upper_case)\n",
    "\n",
    "result = \"\"\n",
    "\n",
    "for symbol in text_list:\n",
    "    result += phone_keyboard_dict[symbol]\n",
    "\n",
    "print(result)\n",
    "\n",
    "\n",
    "\n",
    "\n"
   ]
  },
  {
   "cell_type": "code",
   "execution_count": null,
   "metadata": {},
   "outputs": [],
   "source": []
  }
 ]
}