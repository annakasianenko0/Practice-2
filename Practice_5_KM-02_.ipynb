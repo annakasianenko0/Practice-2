{
  "nbformat": 4,
  "nbformat_minor": 0,
  "metadata": {
    "colab": {
      "name": "Practice_5.ipynb",
      "provenance": [],
      "collapsed_sections": [
        "193Kzrii8JCG",
        "3txUK3KJUdkf",
        "n1mNKt9JzLSj"
      ]
    },
    "kernelspec": {
      "name": "Python 3.8.5 64-bit",
      "display_name": "Python 3.8.5 64-bit",
      "metadata": {
        "interpreter": {
          "hash": "082e9a3bcad0a290d0001e938aa60b99250c6c2ef33a923c00b70f9826caf4b7"
        }
      }
    }
  },
  "cells": [
    {
      "cell_type": "markdown",
      "metadata": {
        "id": "FMqboNwO4rVs"
      },
      "source": [
        "# **Курс \"Програмування на мові Python\"**\n",
        "\n",
        "##### Викладачі:\n",
        "##### Борисенко Павло Борисович\n",
        "##### Щьоголєв Максим Олегович\n"
      ]
    },
    {
      "cell_type": "markdown",
      "metadata": {
        "id": "A2T6MigL5Z06"
      },
      "source": [
        "## **Практичне зайняття №5**\n",
        "### Тема: \"Робота з кортежами, множинами та словниками\""
      ]
    },
    {
      "source": [
        "### **Завдання 1 (1,5 бали)**\n",
        "\n",
        "Напишіть програму, яка визначала б, чи можна з літер однієї фрази скласти іншу фразу. Наприклад:\n",
        "\n",
        "\"William Shakespeare\" -> \"A small spark\"\n",
        "\n",
        "Перша фраза містить 11 унікальних літер (хоча деякі повторюються): a, e, h, i, k, l, m, p, r, s та w. Друга фраза містить 7 унікальних літер: a, k, l, m, p, r та s. Кожна з літер другої фрази зустрічається принаймні один раз у першій фразі.\n",
        "\n",
        "1. Обидві фрази повинні вводитись користувачем з клавіатури.\n",
        "\n",
        "2. Скористайтесь властивістю множин у мові програмування Python для виділення колекції унікальних літер.\n",
        "\n",
        "3. У множину не повинні потрапити пробіли, розділові знаки та інші символи, що не є літерами (скористайтесь методом **isalpha()**). Також усі літери мають бути переведені в нижній або верхній регістр (скористайтесь методами **lower()** або **upper()**).\n",
        "\n",
        "4. Зверніть увагу на те, що літери як в першій, так і вдругій фразі можуть повторюватись. Однак множина унікальних літер другої фрази повинна бути підмножиною множини унікальних літер першої фрази.\n",
        "\n",
        "5. У складі змістовного повідомлення програма повинна виводити множину літер першої фрази, множину літер другої фрази, а також змістовне повідомлення про те, чи можна скласти з літер першої фрази другу фразу."
      ],
      "cell_type": "markdown",
      "metadata": {}
    },
    {
      "cell_type": "code",
      "execution_count": 3,
      "metadata": {},
      "outputs": [
        {
          "output_type": "stream",
          "name": "stdout",
          "text": [
            "Set from first phrase: {'w', 's', 'p', 'k', 'e', 'm', 'r', 'h', 'a', 'i', 'l'}\nSet from second phrase: {'s', 'p', 'k', 'm', 'r', 'a', 'l'}\nYes, second phrase can be assembled from the first phrase :)\n"
          ]
        }
      ],
      "source": [
        "while True:\n",
        "    phrase_1 = input(\"Please enter the first phrase (only alphabetical characters are allowed): \")\n",
        "    phrase_1_no_whitespaces_lowercase = phrase_1.replace(\" \", \"\").lower()\n",
        "    if not phrase_1_no_whitespaces_lowercase.isalpha():\n",
        "        print(\"Error. Not all characters are alphabetical!\")\n",
        "        continue\n",
        "\n",
        "    phrase_2 = input(\"Please enter the second phrase (only alphabetical characters are allowed): \")\n",
        "    phrase_2_no_whitespaces_lowercase = phrase_2.replace(\" \", \"\").lower()\n",
        "    if not phrase_2_no_whitespaces_lowercase.isalpha():\n",
        "        print(\"Error. Not all characters are alphabetical!\")\n",
        "        continue\n",
        "    set_from_phrase_1 = set(phrase_1_no_whitespaces_lowercase)\n",
        "    set_from_phrase_2 = set(phrase_2_no_whitespaces_lowercase)\n",
        "\n",
        "    print(\"Set from first phrase:\", set_from_phrase_1)\n",
        "    print(\"Set from second phrase:\", set_from_phrase_2)\n",
        "\n",
        "    if set_from_phrase_2.issubset(set_from_phrase_1):\n",
        "        print(\"Yes, second phrase can be assembled from the first phrase :)\")\n",
        "    else:\n",
        "        print(\"No, second phrase can not be assembled from the first phrase :(\")\n",
        "\n",
        "    if input(\"One more time? [y] for Yes, any other key to exit the programme\") != 'y':\n",
        "        break\n",
        "\n",
        "\n",
        "\n",
        "\n",
        "\n"
      ]
    },
    {
      "source": [
        "### **Завдання 2 (1,5 бали)**\n",
        "\n",
        "На сотовому телефоні повідомлення пишуться за допомогою кнопок з цифрами. Оскільки кожна кнопка містить кілька символів, потрібно натискати на неї кілька разів, щоб надрукувати деякі з них. Якщо написнути кнопку один раз, генерується перший із доступних для цієї кнопки символів. Якщо натиснути два, три, чотири чи п'ять разів, генеруються другий, третій, четвертий чи п'ятий символи віповідно. Повний перелік кнопок (цифр) та символів, які генеруються за допомогою цих кнопок, подано у таблиці.\n",
        "\n",
        "Кнопка | Символи\n",
        "--- | ---\n",
        "1 | . , ? ! :\n",
        "2 | A B C\n",
        "3 | D E F\n",
        "4 | G H I\n",
        "5 | J K L\n",
        "6 | M N O\n",
        "7 | P Q R S\n",
        "8 | T U V\n",
        "9 | W X Y Z\n",
        "0 | space\n",
        "\n",
        "Напишіть програму, яка генеруватиме номери кнопок, які потрібно натиснути для введення певного рядка, з урахуванням кількості натискань кожної кнопки. Рядок має вводити користувач. Скористайтесь словником для збереження усіх номерів кнопок та переліку символів, що їм відповідають.\n",
        "\n",
        "Наприклад, якщо користувач ввів \"Hello, World!\", програма повинна вивести:\n",
        "\n",
        "4433555555666110966677755531111\n",
        "\n",
        "Програма повинна приймати літери як верхнього, так і нижнього регістрів. Усі символи, які не входять до переліку, поданому у таблиці, повинні ігноруватись програмою."
      ],
      "cell_type": "markdown",
      "metadata": {}
    },
    {
      "cell_type": "code",
      "execution_count": 1,
      "metadata": {},
      "outputs": [
        {
          "output_type": "stream",
          "name": "stdout",
          "text": [
            "4433555555666110966677755531111\n",
            "26666205527777444266336655666\n"
          ]
        }
      ],
      "source": [
        "phone_keyboard_dict = {1: \".,?!:\", 2: \"ABC\", 3: \"DEF\", 4: \"GHI\", 5: \"JKL\", 6: \"MNO\", 7: \"PQRS\", 8: \"TUV\", 9: \"WXYZ\", 0: \" \" }\n",
        "\n",
        "while True:\n",
        "    text = input(\"Please enter a phrase: \")\n",
        "    text_upper_case = text.upper()\n",
        "    text_list = list(text_upper_case)\n",
        "\n",
        "    result = \"\"\n",
        "\n",
        "    for symbol in text_list:\n",
        "        for key in phone_keyboard_dict:\n",
        "            val = phone_keyboard_dict[key]\n",
        "            if symbol in val:\n",
        "                for n in range(val.index(symbol) + 1):\n",
        "                    result += str(key)\n",
        "\n",
        "    print(result)\n",
        "\n",
        "    if input(\"One more time? [y] for Yes, any other key to exit the programme\") != 'y':\n",
        "        break\n",
        "\n",
        "\n"
      ]
    },
    {
      "cell_type": "code",
      "execution_count": null,
      "metadata": {},
      "outputs": [],
      "source": []
    }
  ]
}