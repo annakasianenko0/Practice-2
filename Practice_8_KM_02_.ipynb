{
  "nbformat": 4,
  "nbformat_minor": 0,
  "metadata": {
    "colab": {
      "name": "Practice_7_KM-01_.ipynb",
      "provenance": [],
      "collapsed_sections": []
    },
    "kernelspec": {
      "name": "Python 3.9.0 64-bit",
      "display_name": "Python 3.9.0 64-bit",
      "metadata": {
        "interpreter": {
          "hash": "7812ea015bdcee6f23a998adcdd2ef97c151c0c241b7b7070987d9313e41299d"
        }
      }
    }
  },
  "cells": [
    {
      "cell_type": "markdown",
      "metadata": {
        "id": "FMqboNwO4rVs"
      },
      "source": [
        "# **Курс \"Програмування на мові Python\"**\n",
        "\n",
        "##### Викладачі:\n",
        "##### Борисенко Павло Борисович\n",
        "##### Щьоголєв Максим Олегович\n"
      ]
    },
    {
      "cell_type": "markdown",
      "metadata": {
        "id": "A2T6MigL5Z06"
      },
      "source": [
        "## **Практичне зайняття №8**\n",
        "\n",
        "### Тема: \"Робота з функціями. Локальні та глобальні змінні\""
      ]
    },
    {
      "cell_type": "markdown",
      "metadata": {
        "id": "cfCdgK2zXm7e"
      },
      "source": [
        "### **Завдання 1 (3 бали)**\n",
        "\n",
        "**Підрахувати визначник матриці, використовуючи правило перестановок.**\n",
        "\n",
        "Функція random_matrix() призначена для створення квадратної матриці випадкових чисел. Її змінювати непотрібно.\n",
        "\n",
        "Приклад використання методу permutations() для створення списку перестановок також подається у комірці з кодом.\n",
        "\n",
        "1) Створити 3 функції: функцію створення списку перестановок, функцію підрахунку добутків та функцію підрахунку загальної суми.\n",
        "\n",
        "2) Кожна функція має супроводжуватись рядком документації, що буде коротко описувати її призначення.\n",
        "\n",
        "3) Розмірність квадратної матриці має вводитись користувачем з клавіатури. Підрахунки виконувати лише в тому разі, якщо користувач введе ціле додатне число.\n",
        "\n",
        "4) Загальний результат повинен підраховуватись за допомогою композиції функцій.\n",
        "\n",
        "За бажання можна перевірити правильність роботи програми за допомогою функції np.linalg.det(a)."
      ]
    },
    {
      "cell_type": "code",
      "metadata": {
        "id": "ifNX2M7LXm7f"
      },
      "source": [
        "import numpy as np\n",
        "import itertools\n",
        "import numpy as np\n",
        "import itertools\n",
        "\n",
        "\n",
        "\n",
        "\n",
        "def get_random_matrix(dim_param):\n",
        "    \"\"\"\n",
        "    The function generates dim x dim array of integers\n",
        "    between 0 and 10.\n",
        "    \"\"\"\n",
        "    return np.random.randint(10, size=(dim_param, dim_param))\n",
        "\n",
        "\n",
        "def get_permutations_list(dim_param):\n",
        "    \"\"\"\n",
        "    permutations(iterable[, r]) --> permutations object\n",
        "\n",
        "    Return successive r-length permutations of elements in the iterable.\n",
        "\n",
        "    permutations(range(3), 2) --> (0,1), (0,2), (1,0), (1,2), (2,0), (2,1)\n",
        "    \"\"\"\n",
        "    return list(itertools.permutations(range(1, dim_param + 1), dim_param))\n",
        "\n",
        "\n",
        "def get_compositions_list(matrix_param, permutations_param):\n",
        "    \"\"\"\n",
        "    for each permatation in permatations param calculates composition of corrisponding matrix elements according to the formula\n",
        "    returns the list of compositions\n",
        "    \"\"\"\n",
        "    compositions_list = []\n",
        "    for perm in permutations_param:\n",
        "        inversions_count = 0\n",
        "        for i in range(len(perm)):\n",
        "            for j in range(i + 1, len(perm)):\n",
        "                if perm[i] > perm[j]:\n",
        "                    inversions_count += 1\n",
        "        composition = (-1) ** inversions_count\n",
        "        for c in range(matrix_param.shape[0]):\n",
        "            composition *= matrix_param[c, perm[c] - 1]\n",
        "        compositions_list.append(composition)\n",
        "\n",
        "    return compositions_list\n",
        "\n",
        "\n",
        "def get_compositions_sum(compositions_list_param):\n",
        "    \"\"\"\n",
        "    calculates sum of all compositions in the list\n",
        "    \"\"\"\n",
        "    return sum(compositions_list_param)\n",
        "\n",
        "\n",
        "dim_input = int(input(\"Enter matrix dimension: \"))\n",
        "if dim_input < 0:\n",
        "    raise ValueError(\"Matrix can not have negative dimention: \")\n",
        "\n",
        "matrix = get_random_matrix(dim_input)\n",
        "\n",
        "d = get_compositions_sum(get_compositions_list(matrix, get_permutations_list(dim_input)))\n",
        "\n",
        "d_refer = np.linalg.det(matrix)\n",
        "\n",
        "print(f\"Calculated result: {d}\")\n",
        "print(f\"Reference result (np.linalg.det): {d_refer}\")\n",
        "\n",
        "\n"
      ],
      "execution_count": 10,
      "outputs": [
        {
          "output_type": "error",
          "ename": "ValueError",
          "evalue": "Matrix can not have negative dimention: ",
          "traceback": [
            "\u001b[0;31m---------------------------------------------------------------------------\u001b[0m",
            "\u001b[0;31mValueError\u001b[0m                                Traceback (most recent call last)",
            "\u001b[0;32m<ipython-input-10-6a4c17959e7f>\u001b[0m in \u001b[0;36m<module>\u001b[0;34m\u001b[0m\n\u001b[1;32m     55\u001b[0m \u001b[0mdim_input\u001b[0m \u001b[0;34m=\u001b[0m \u001b[0mint\u001b[0m\u001b[0;34m(\u001b[0m\u001b[0minput\u001b[0m\u001b[0;34m(\u001b[0m\u001b[0;34m\"Enter matrix dimension: \"\u001b[0m\u001b[0;34m)\u001b[0m\u001b[0;34m)\u001b[0m\u001b[0;34m\u001b[0m\u001b[0;34m\u001b[0m\u001b[0m\n\u001b[1;32m     56\u001b[0m \u001b[0;32mif\u001b[0m \u001b[0mdim_input\u001b[0m \u001b[0;34m<\u001b[0m \u001b[0;36m0\u001b[0m\u001b[0;34m:\u001b[0m\u001b[0;34m\u001b[0m\u001b[0;34m\u001b[0m\u001b[0m\n\u001b[0;32m---> 57\u001b[0;31m     \u001b[0;32mraise\u001b[0m \u001b[0mValueError\u001b[0m\u001b[0;34m(\u001b[0m\u001b[0;34m\"Matrix can not have negative dimention: \"\u001b[0m\u001b[0;34m)\u001b[0m\u001b[0;34m\u001b[0m\u001b[0;34m\u001b[0m\u001b[0m\n\u001b[0m\u001b[1;32m     58\u001b[0m \u001b[0;34m\u001b[0m\u001b[0m\n\u001b[1;32m     59\u001b[0m \u001b[0mmatrix\u001b[0m \u001b[0;34m=\u001b[0m \u001b[0mget_random_matrix\u001b[0m\u001b[0;34m(\u001b[0m\u001b[0mdim_input\u001b[0m\u001b[0;34m)\u001b[0m\u001b[0;34m\u001b[0m\u001b[0;34m\u001b[0m\u001b[0m\n",
            "\u001b[0;31mValueError\u001b[0m: Matrix can not have negative dimention: "
          ]
        }
      ]
    },
    {
      "cell_type": "code",
      "execution_count": null,
      "metadata": {},
      "outputs": [],
      "source": []
    }
  ]
}