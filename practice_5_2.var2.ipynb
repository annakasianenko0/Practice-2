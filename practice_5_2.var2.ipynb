{
 "metadata": {
  "language_info": {
   "codemirror_mode": {
    "name": "ipython",
    "version": 3
   },
   "file_extension": ".py",
   "mimetype": "text/x-python",
   "name": "python",
   "nbconvert_exporter": "python",
   "pygments_lexer": "ipython3",
   "version": "3.8.5-final"
  },
  "orig_nbformat": 2,
  "kernelspec": {
   "name": "Python 3.8.5 64-bit",
   "display_name": "Python 3.8.5 64-bit",
   "metadata": {
    "interpreter": {
     "hash": "082e9a3bcad0a290d0001e938aa60b99250c6c2ef33a923c00b70f9826caf4b7"
    }
   }
  }
 },
 "nbformat": 4,
 "nbformat_minor": 2,
 "cells": [
  {
   "cell_type": "code",
   "execution_count": 6,
   "metadata": {},
   "outputs": [
    {
     "output_type": "stream",
     "name": "stdout",
     "text": [
      "44335555556661196667775553\n"
     ]
    },
    {
     "output_type": "execute_result",
     "data": {
      "text/plain": [
       "4433555555666110966677755531111"
      ]
     },
     "metadata": {},
     "execution_count": 6
    }
   ],
   "source": [
    "phone_keyboard_dict = {1: \".,?!:\", 2: \"ABC\", 3: \"DEF\", 4: \"GHI\", 5: \"JKL\", 6: \"MNO\", 7: \"PQRS\", 8: \"TUV\", 9: \"WXYZ\", 0: \" \" }\n",
    "\n",
    "text = input(\"Please write a phrase\")\n",
    "text_upper_case = text.upper()\n",
    "text_list = list(text_upper_case)\n",
    "\n",
    "result = \"\"\n",
    "\n",
    "for symbol in text_list:\n",
    "    for key in phone_keyboard_dict:\n",
    "        val = phone_keyboard_dict[key]\n",
    "        if symbol in val:\n",
    "            for n in range(val.index(symbol) + 1):\n",
    "                result += str(key)\n",
    "\n",
    "print(result)\n",
    "4433555555666110966677755531111\n"
   ]
  },
  {
   "cell_type": "code",
   "execution_count": null,
   "metadata": {},
   "outputs": [],
   "source": []
  }
 ]
}