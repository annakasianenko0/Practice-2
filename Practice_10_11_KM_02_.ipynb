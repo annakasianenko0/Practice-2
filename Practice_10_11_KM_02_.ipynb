{
  "nbformat": 4,
  "nbformat_minor": 0,
  "metadata": {
    "colab": {
      "name": "Practice_10-11_KM_01_.ipynb",
      "provenance": [],
      "collapsed_sections": []
    },
    "kernelspec": {
      "name": "python3",
      "display_name": "Python 3.9.0 64-bit",
      "metadata": {
        "interpreter": {
          "hash": "7812ea015bdcee6f23a998adcdd2ef97c151c0c241b7b7070987d9313e41299d"
        }
      }
    }
  },
  "cells": [
    {
      "cell_type": "markdown",
      "metadata": {
        "id": "FMqboNwO4rVs"
      },
      "source": [
        "# **Курс \"Програмування на мові Python\"**\n",
        "\n",
        "##### Викладачі:\n",
        "##### Борисенко Павло Борисович\n",
        "##### Щьоголєв Максим Олегович\n"
      ]
    },
    {
      "cell_type": "markdown",
      "metadata": {
        "id": "A2T6MigL5Z06"
      },
      "source": [
        "## **Практичні зайняття №10-11**\n",
        "\n",
        "### Тема: \"Ітератори та генератори. Декоратори\""
      ]
    },
    {
      "cell_type": "markdown",
      "metadata": {
        "id": "cfCdgK2zXm7e"
      },
      "source": [
        "### **Завдання 1 (2 бали)**\n",
        "\n",
        "Розрахуйте коефієнти розкладу біному Ньютона за допомогою генератора (https://uk.wikipedia.org/wiki/%D0%91%D1%96%D0%BD%D0%BE%D0%BC_%D0%9D%D1%8C%D1%8E%D1%82%D0%BE%D0%BD%D0%B0).\n",
        "\n",
        "1. Степінь многочлена користувач має вводити з клавіатури (невід'ємне ціле число).\n",
        "\n",
        "2. Програма має підраховувати біноміальні коефіцієнти для біномів усіх степенів, починаючи від 0 і закінчуючи тим, який ввів користувач.\n",
        "\n",
        "3. Коефіцієнти мають виводитись у вигляді трикутника Паскаля.\n",
        "\n",
        "Наприклад, якщо користувач введе число 5, програма має вивести результат:\n",
        "\n",
        "1\n",
        "\n",
        "1 1\n",
        "\n",
        "1 2 1\n",
        "\n",
        "1 3 3 1\n",
        "\n",
        "1 4 6 4 1\n",
        "\n",
        "1 5 10 10 5 1\n"
      ]
    },
    {
      "cell_type": "code",
      "metadata": {
        "id": "Bku8v9CjE_Qc"
      },
      "source": [
        ""
      ],
      "execution_count": null,
      "outputs": []
    },
    {
      "cell_type": "markdown",
      "metadata": {
        "id": "oqXwIz3iuPRe"
      },
      "source": [
        "### **Завдання 2 (4 бали)**\n",
        "\n",
        "Більшість друкованих книг (особливо це стосується книг у твердій палітурці) складаються із зошитів. Припустимо, що в друкарні текст друкується на листах паперу удвічі більших за звичайний книжковий формат. Потім ці листи складаються вдвічі, з них формуються зошити, які потім зшиваються у блок. Зшиті зошити зазвичай складаються з 8, 12 або 16 листів (відповідно 16, 24 або 32 сторінок) кожен.\n",
        "\n",
        "Розглянемо конкретний приклад. \n",
        "\n",
        "Припустимо, що кожен зшитий зошит нашої книги складається з 8 листів (16 сторінок). Якщо уявити великі листи, з яких потім складаються зошити, то на кожному таком листі буде по 4 сторінки книги. У нашій книзі таких великих листів буде 4. Розглянемо перший лист. З одного боку на ньому будуть надруковані сторінки 16 та 1, з іншого - 2 та 15. На другому листі з одного боку будуть надруковані сторінки 14 та 3, з іншого - 4 та 13.\n",
        "\n",
        "**Написати програму, яка визначатиме послідовність сторінок, що будуть надруковані на кожному великому листі.**\n",
        "\n",
        "1. Користувач має вводити з клавіатури три значення: кількість сторінок у книзі (не більше 1280), кількість сторінок у кожному зошиті цієї книги (потрібно буде обрати один з трьох варіантів: 16, 24 або 32) та параметр 0 або 1 (пояснення у п. 5).\n",
        "\n",
        "2. Зверніть увагу на те, що загальна кількість сторінок у книзі має бути кратною кількості сторінок у зошиті. Якщо користувач введе число, що не задовольняє цій умові, програма повинна припинити роботу або запропонувати користувачеві ввесте інше значення. Зауважте також, що 1280 не ділиться на 24.\n",
        "\n",
        "3. Зверніть увагу на те, що на великих листах поворот аркуша відбувається за коротким краєм. Отже, якщо з одного боку аркуша надруковано сторінки 16 та 1, то з іншого 2 та 15 (а не 15, 2), якщо дивитись зліва направо.\n",
        "\n",
        "4. Функція, яка визначатиме послідовність книжкових сторінок, має виводити на екран рядок за рядком номери сторінок кожного зошита, а також кількість зошитів у книзі.\n",
        "\n",
        "5. Створіть функцію-декоратор, яка прийматиме на вхід параметр 0 або 1, конвертований у False або True відповідно, та навісьте його на попередню функцію. Якщо параметр дорівнює False, додаткові функції декоратора не повинні виконуватись, тобто має виконатись лише функція з п. 4. Декоратор повинен створювати список усіх сторінок у потрібній послідовності, причому номери сторінок кожного зошита мають зберігатись в окремому вкладеному списку. Для 16-сторінкового зошита список повинен мати вигляд:\n",
        "\n",
        "`[[16, 1, 2, 15, 14, 3, 4, 13, ..., 10, 7, 8, 9], [32, 17, 18, 31, ...], ... ]`\n",
        "\n",
        "**Бонусне завдання (за бажанням)**\n",
        "\n",
        "6. Замість функції з п. 4 створіть генератор, який буде визначати послідовність книжкових сторінок для кожного зошита. Ці рядки можна потім вивести або у циклі, або за допомогою функції next(). Функція-декоратор має працювати з цим генератором так само, як і зі звичайною функцією."
      ]
    },
    {
      "cell_type": "code",
      "metadata": {
        "id": "yiRr2CqMWxLA"
      },
      "source": [
        "book_pages = int(input(\"Please enter a number of pages in a book, it should be less than 1280\"))\n",
        "if book_pages > 1280:\n",
        "    raise ValueError(\"A number should be less than 1280, try one more time\")\n",
        "notebook_pages = int(input(\"Enter a number of notebook pages, choose from 16, 24 or 32\"))\n",
        "print(notebook_pages)\n",
        "if notebook_pages not in [16, 24, 32]:\n",
        "    raise ValueError(\"Please choose from 16, 24 or 32\")\n",
        "if book_pages % notebook_pages != 0:\n",
        "    raise ValueError(\"The number of pages in the book should be a multiple of the number of pages in the notebook\")\n",
        "break_book_by_pages = int(input(\"Please enter a param 0 or 1\"))\n",
        "if break_book_by_pages not in [0, 1]:\n",
        "    raise ValueError(\"Please choose from 0 or 1\")\n",
        "\n",
        "def notebook_breaker_decorator(active):\n",
        "    def wrap(func):\n",
        "        def wrapper(*args, **kwargs):\n",
        "            if active:\n",
        "                book = func(*args, **kwargs)\n",
        "                pages_per_notebook = args[1]\n",
        "                book_with_pages = [book[i:i+pages_per_notebook] for i in range(0, len(book), pages_per_notebook)]\n",
        "                print(f\"Book broken into notebooks: {book_with_pages}\")\n",
        "                return book_with_pages\n",
        "            else:\n",
        "                return func(*args, **kwargs)\n",
        "        return wrapper\n",
        "    return wrap\n",
        "\n",
        "@notebook_breaker_decorator(active=bool(break_book_by_pages))\n",
        "def pages_sequence(total_pages, pages_per_notebook):\n",
        "    number_of_notebooks = total_pages // pages_per_notebook\n",
        "    sheets_per_notebook = pages_per_notebook // 4\n",
        "    book_sheets = []\n",
        "    \n",
        "    for current_notebook in range(1, number_of_notebooks + 1):\n",
        "        incrementer = 0\n",
        "        for sheet in range(1, sheets_per_notebook + 1):\n",
        "            book_sheets.append(pages_per_notebook * current_notebook - incrementer * 2)\n",
        "            book_sheets.append(pages_per_notebook * current_notebook - pages_per_notebook + 1 + incrementer * 2)\n",
        "            book_sheets.append(pages_per_notebook * current_notebook - pages_per_notebook + 2 + incrementer * 2)\n",
        "            book_sheets.append(pages_per_notebook * current_notebook - 1 - incrementer * 2)\n",
        "            incrementer += 1\n",
        "\n",
        "    print(f\"Pages on sheets in a book: {book_sheets}\")\n",
        "    print(f\"Number of notebooks: {number_of_notebooks}\")\n",
        "    return book_sheets\n",
        "\n",
        "pages_sequence(book_pages, notebook_pages)"
      ],
      "execution_count": 59,
      "outputs": [
        {
          "output_type": "stream",
          "name": "stdout",
          "text": [
            "16\n",
            "Pages on sheets in a book: [16, 1, 2, 15, 14, 3, 4, 13, 12, 5, 6, 11, 10, 7, 8, 9, 32, 17, 18, 31, 30, 19, 20, 29, 28, 21, 22, 27, 26, 23, 24, 25]\n",
            "Number of notebooks: 2\n",
            "Book broken into notebooks: [[16, 1, 2, 15, 14, 3, 4, 13, 12, 5, 6, 11, 10, 7, 8, 9], [32, 17, 18, 31, 30, 19, 20, 29, 28, 21, 22, 27, 26, 23, 24, 25]]\n"
          ]
        },
        {
          "output_type": "execute_result",
          "data": {
            "text/plain": [
              "[[16, 1, 2, 15, 14, 3, 4, 13, 12, 5, 6, 11, 10, 7, 8, 9],\n",
              " [32, 17, 18, 31, 30, 19, 20, 29, 28, 21, 22, 27, 26, 23, 24, 25]]"
            ]
          },
          "metadata": {},
          "execution_count": 59
        }
      ]
    },
    {
      "cell_type": "code",
      "execution_count": null,
      "metadata": {},
      "outputs": [],
      "source": []
    }
  ]
}